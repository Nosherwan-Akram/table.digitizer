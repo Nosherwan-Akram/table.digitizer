{
 "cells": [
  {
   "cell_type": "code",
   "execution_count": 1,
   "metadata": {},
   "outputs": [],
   "source": [
    "from PIL import Image\n",
    "from PIL import ImageFilter\n",
    "import os\n",
    "import numpy as np\n",
    "import cv2\n"
   ]
  },
  {
   "cell_type": "code",
   "execution_count": 4,
   "metadata": {},
   "outputs": [],
   "source": [
    "\n",
    "\n",
    "directory_in_str = './'\n",
    "directory = (directory_in_str)\n",
    "\n"
   ]
  },
  {
   "cell_type": "code",
   "execution_count": 5,
   "metadata": {},
   "outputs": [
    {
     "data": {
      "text/plain": [
       "['checkDirs.py',\n",
       " 'test3.png',\n",
       " 'modifier.ipynb',\n",
       " '1.png',\n",
       " 'translationInvariance.npy',\n",
       " '1.jpg',\n",
       " 'translationInvarianceTexts.pickle',\n",
       " 'Get IAM training data.txt',\n",
       " 'test.png',\n",
       " '.ipynb_checkpoints',\n",
       " 'corpus.txt',\n",
       " 'analyze.png',\n",
       " 'words.txt',\n",
       " 'pixelRelevance.npy',\n",
       " 'words1.txt',\n",
       " 'words',\n",
       " '65145405_406326509968104_6463422732435456000_n.jpg']"
      ]
     },
     "execution_count": 5,
     "metadata": {},
     "output_type": "execute_result"
    }
   ],
   "source": [
    "os.listdir(directory)\n"
   ]
  },
  {
   "cell_type": "code",
   "execution_count": 10,
   "metadata": {},
   "outputs": [],
   "source": [
    "count = 0\n",
    "for file in os.listdir(directory):\n",
    "     count=count+1\n",
    "     filename = os.fsdecode(file)\n",
    "     if filename.endswith(\".jpg\"): \n",
    "        col = Image.open(os.path.join(directory, filename))\n",
    "        gray = col.convert('L')\n",
    "        bw = gray.point(lambda x: 0 if x<128 else 255, '1')\n",
    "        dilation_img = bw.filter(ImageFilter.MinFilter(3))\n",
    "        dilation_img.save(str(count)+\".jpg\")\n",
    "        continue\n",
    "     else:\n",
    "        continue"
   ]
  },
  {
   "cell_type": "code",
   "execution_count": 25,
   "metadata": {},
   "outputs": [],
   "source": [
    "file1 = open(\"labels.txt\",\"w\") \n",
    "for i in range(1,5993):  \n",
    "    file1.write(str(i)+\".jpg \\n\") \n",
    "file1.close()"
   ]
  },
  {
   "cell_type": "code",
   "execution_count": 12,
   "metadata": {},
   "outputs": [
    {
     "name": "stdout",
     "output_type": "stream",
     "text": [
      "5952\n"
     ]
    }
   ],
   "source": [
    "imgs = []\n",
    "lbls = []\n",
    "words = []\n",
    "file2 = open(\"labels1.txt\",\"r\")\n",
    "c=1\n",
    "for i in file2:\n",
    "    words = i.split()\n",
    "    imgs.append(words[0])\n",
    "    lbls.append(words[1])\n",
    "    c+=1\n",
    "print(str(c))\n",
    "file2.close()"
   ]
  },
  {
   "cell_type": "code",
   "execution_count": 17,
   "metadata": {},
   "outputs": [],
   "source": [
    "class DataProvider():\n",
    "\t\"this class creates machine-written text for a word list. TODO: change getNext() to return your samples.\"\n",
    "\n",
    "\tdef __init__(self, wordList, imgList):\n",
    "\t\tself.wordList = wordList\n",
    "\t\tself.imgList = imgList\n",
    "\t\tself.idx = 0\n",
    "\n",
    "\tdef hasNext(self):\n",
    "\t\t\"are there still samples to process?\"\n",
    "\t\treturn self.idx < len(self.wordList)\n",
    "\n",
    "\tdef getNext(self):\n",
    "\t\t\"TODO: return a sample from your data as a tuple containing the text and the image\"\n",
    "\t\timg = self.imgList[self.idx]\n",
    "\t\tword = self.wordList[self.idx]\n",
    "\t\tself.idx += 1\n",
    "\t\treturn (word, img)\n",
    "\n",
    "\n",
    "def createIAMCompatibleDataset(dataProvider):\n",
    "\t\"this function converts the passed dataset to an IAM compatible dataset\"\n",
    "\n",
    "\t# create files and directories\n",
    "\tf = open('words.txt', 'w+')\n",
    "\tif not os.path.exists('sub'):\n",
    "\t\tos.makedirs('sub')\n",
    "\tif not os.path.exists('sub/sub-sub'):\n",
    "\t\tos.makedirs('sub/sub-sub')\n",
    "\n",
    "\t# go through data and convert it to IAM format\n",
    "\tctr = 0\n",
    "\twhile dataProvider.hasNext():\n",
    "\t\tsample = dataProvider.getNext()\n",
    "\t\t\n",
    "\t\t# write img\n",
    "#\t\tcv2.imwrite('sub/sub-sub/sub-sub-%d.png'%ctr, sample[1])\n",
    "\t\t\n",
    "\t\t# write filename, dummy-values and text\n",
    "\t\tline = 'sub/sub-sub-'+sample[1] + ' X X X X X X X ' + sample[0] + '\\n'\n",
    "\t\tf.write(line)\n",
    "\t\t\n",
    "\t\tctr += 1\n",
    "\t\t\n",
    "\t\t\n",
    "words = lbls\n",
    "images = imgs\n",
    "dataProvider = DataProvider(words,images)\n",
    "createIAMCompatibleDataset(dataProvider)"
   ]
  },
  {
   "cell_type": "code",
   "execution_count": null,
   "metadata": {},
   "outputs": [],
   "source": []
  }
 ],
 "metadata": {
  "kernelspec": {
   "display_name": "Python 3",
   "language": "python",
   "name": "python3"
  },
  "language_info": {
   "codemirror_mode": {
    "name": "ipython",
    "version": 3
   },
   "file_extension": ".py",
   "mimetype": "text/x-python",
   "name": "python",
   "nbconvert_exporter": "python",
   "pygments_lexer": "ipython3",
   "version": "3.6.3"
  }
 },
 "nbformat": 4,
 "nbformat_minor": 2
}
